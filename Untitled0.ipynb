{
  "nbformat": 4,
  "nbformat_minor": 0,
  "metadata": {
    "colab": {
      "provenance": [],
      "authorship_tag": "ABX9TyNAHPUsYgTWE1l5E7Q9EO7q",
      "include_colab_link": true
    },
    "kernelspec": {
      "name": "python3",
      "display_name": "Python 3"
    },
    "language_info": {
      "name": "python"
    }
  },
  "cells": [
    {
      "cell_type": "markdown",
      "metadata": {
        "id": "view-in-github",
        "colab_type": "text"
      },
      "source": [
        "<a href=\"https://colab.research.google.com/github/Jansemil/it-cert-automation-practice/blob/master/Untitled0.ipynb\" target=\"_parent\"><img src=\"https://colab.research.google.com/assets/colab-badge.svg\" alt=\"Open In Colab\"/></a>"
      ]
    },
    {
      "cell_type": "code",
      "execution_count": null,
      "metadata": {
        "id": "MsRxTpsIX9sX"
      },
      "outputs": [],
      "source": [
        "import yt_dlp\n",
        "import os\n",
        "from yt_dlp.utils import sanitize_filename\n",
        "from mutagen.easyid3 import EasyID3\n",
        "from mutagen.id3 import ID3, ID3NoHeaderError\n",
        "\n",
        "def descargar_mp3(url, artista=None, album=None, genero=None):\n",
        "    # Carpeta destino\n",
        "    carpeta = artista if artista else \"Descargas\"\n",
        "    os.makedirs(carpeta, exist_ok=True)\n",
        "\n",
        "    opciones = {\n",
        "        'format': 'bestaudio/best',\n",
        "        'postprocessors': [{\n",
        "            'key': 'FFmpegExtractAudio',\n",
        "            'preferredcodec': 'mp3',\n",
        "            'preferredquality': '192',\n",
        "        }],\n",
        "        'outtmpl': f'{carpeta}/%(title)s.%(ext)s',\n",
        "        'quiet': False,\n",
        "    }\n",
        "\n",
        "    try:\n",
        "        with yt_dlp.YoutubeDL(opciones) as ydl:\n",
        "            info = ydl.extract_info(url, download=True)\n",
        "            titulo = sanitize_filename(info['title'])\n",
        "            nombre_archivo = os.path.join(carpeta, f\"{titulo}.mp3\")\n",
        "    except Exception as e:\n",
        "        print(f\"❌ Error en la descarga: {e}\")\n",
        "        return\n",
        "\n",
        "    # Añadir metadatos\n",
        "    try:\n",
        "        try:\n",
        "            audio = EasyID3(nombre_archivo)\n",
        "        except ID3NoHeaderError:\n",
        "            audiofile = ID3()\n",
        "            audiofile.save(nombre_archivo)\n",
        "            audio = EasyID3(nombre_archivo)\n",
        "\n",
        "        audio['title'] = info['title']\n",
        "        if artista:\n",
        "            audio['artist'] = artista\n",
        "        if album:\n",
        "            audio['album'] = album\n",
        "        if genero:\n",
        "            audio['genre'] = genero\n",
        "\n",
        "        audio.save()\n",
        "        print(f\"✅ Descargado y etiquetado: {nombre_archivo}\")\n",
        "    except Exception as e:\n",
        "        print(f\"⚠️ Error al añadir metadatos: {e}\")\n",
        "\n",
        "\n",
        "# Ejemplo de uso\n",
        "if __name__ == \"__main__\":\n",
        "    enlace = input(\"🎵 Enlace de YouTube: \").strip()\n",
        "    artista = input(\"👤 Artista: \").strip()\n",
        "    album = input(\"💿 Álbum (opcional): \").strip()\n",
        "    genero = input(\"🎼 Género (opcional): \").strip()\n",
        "\n",
        "    descargar_mp3(enlace, artista or None, album or None, genero or None)\n"
      ]
    }
  ]
}